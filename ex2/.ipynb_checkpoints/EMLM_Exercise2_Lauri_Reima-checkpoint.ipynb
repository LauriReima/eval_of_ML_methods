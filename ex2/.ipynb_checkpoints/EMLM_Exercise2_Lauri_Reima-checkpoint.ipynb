{
 "cells": [
  {
   "cell_type": "markdown",
   "metadata": {},
   "source": [
    "Student name <br>\n",
    "Student number 000000 <br>\n",
    "Month, day, 2024  <br>"
   ]
  },
  {
   "cell_type": "markdown",
   "metadata": {},
   "source": [
    "# Exercise 2 | TKO_7092 Evaluation of Machine Learning Methods 2024"
   ]
  },
  {
   "cell_type": "markdown",
   "metadata": {},
   "source": [
    "### Prediction of the metal ion content from multi-parameter data\n",
    "<b> Use K-Nearest Neighbor Regression with euclidean distance to predict total metal concentration (c_total), concentration of Cadmium (Cd) and concentration of Lead (Pb), using number of neighbors k = 1, 3, 5, 7.</b> <br>\n",
    "\n",
    "<b> Instructions: </b> \n",
    "\n",
    "    - You may use Nearest Neighbor Regression from https://scikit-learn.org/stable/modules/neighbors.html\n",
    "    - The data should be standarized using z-score (using sklearn.preprocessing.StandardScaler is advised).\n",
    "    - Implement Leave-One-Out cross-validation and calculate the C-index for each output (c_total, Cd, Pb). \n",
    "    - Implement Leave-Replicas-Out cross-validation and calculate the C-index for each output (c_total, Cd, Pb).\n",
    "    - Explain your code by adding detailed comments. \n",
    "    - Only provide code that is relevant to the exercise.\n",
    "    - Please submit your solution as a Jupyter Notebook (.ipynb) and as a PDF file. Ensure to include your full name in the filename.     \n",
    "    - Submit to moodle your solution on ** Wednesday 7 of February ** at the latest.\n",
    "  \n",
    "<b>Please follow the instructions and note that you are expected to submit your individual solution.<br>\n",
    "Identical or overly similar submissions will result in the exercise being marked as failed.\n",
    "</b>"
   ]
  },
  {
   "cell_type": "markdown",
   "metadata": {},
   "source": [
    "## Import libraries"
   ]
  },
  {
   "cell_type": "code",
   "execution_count": 116,
   "metadata": {
    "tags": []
   },
   "outputs": [],
   "source": [
    "# In this cell import all libraries you need. For example: \n",
    "import numpy as np\n",
    "import pandas as pd\n",
    "from sklearn.model_selection import train_test_split,  LeaveOneOut, KFold, LeaveOneGroupOut\n",
    "from sklearn.neighbors import KNeighborsRegressor\n",
    "import matplotlib.pyplot as plt"
   ]
  },
  {
   "cell_type": "markdown",
   "metadata": {},
   "source": [
    "## Read and visualize the dataset"
   ]
  },
  {
   "cell_type": "code",
   "execution_count": 2,
   "metadata": {
    "tags": []
   },
   "outputs": [
    {
     "name": "stdout",
     "output_type": "stream",
     "text": [
      "(268, 6)\n",
      "    Mod1  Mod2    Mod3  c_total   Cd    Pb\n",
      "0   9945   119   72335        0  0.0   0.0\n",
      "1   9596   119  110542        0  0.0   0.0\n",
      "2  10812   120   98594        0  0.0   0.0\n",
      "3  10786   117   82977        0  0.0   0.0\n",
      "4  10566   108  136416       14  0.0  14.0\n"
     ]
    }
   ],
   "source": [
    "# In this cell read the file Water_data.csv\n",
    "# Print the dataset dimesions (i.e. number of rows and columns)\n",
    "# Print the first 5 rows of the dataset\n",
    "water_data = pd.read_csv('water_data.csv')\n",
    "print(water_data.shape)\n",
    "print(water_data.head(5))"
   ]
  },
  {
   "cell_type": "markdown",
   "metadata": {},
   "source": [
    "## Standardization of the dataset"
   ]
  },
  {
   "cell_type": "code",
   "execution_count": 34,
   "metadata": {
    "tags": []
   },
   "outputs": [
    {
     "data": {
      "text/html": [
       "<div>\n",
       "<style scoped>\n",
       "    .dataframe tbody tr th:only-of-type {\n",
       "        vertical-align: middle;\n",
       "    }\n",
       "\n",
       "    .dataframe tbody tr th {\n",
       "        vertical-align: top;\n",
       "    }\n",
       "\n",
       "    .dataframe thead th {\n",
       "        text-align: right;\n",
       "    }\n",
       "</style>\n",
       "<table border=\"1\" class=\"dataframe\">\n",
       "  <thead>\n",
       "    <tr style=\"text-align: right;\">\n",
       "      <th></th>\n",
       "      <th>Mod1</th>\n",
       "      <th>Mod2</th>\n",
       "      <th>Mod3</th>\n",
       "      <th>c_total</th>\n",
       "      <th>Cd</th>\n",
       "      <th>Pb</th>\n",
       "    </tr>\n",
       "  </thead>\n",
       "  <tbody>\n",
       "    <tr>\n",
       "      <th>0</th>\n",
       "      <td>-0.972283</td>\n",
       "      <td>-0.670482</td>\n",
       "      <td>-0.358179</td>\n",
       "      <td>0</td>\n",
       "      <td>0.0</td>\n",
       "      <td>0.0</td>\n",
       "    </tr>\n",
       "    <tr>\n",
       "      <th>1</th>\n",
       "      <td>-0.975878</td>\n",
       "      <td>-0.670482</td>\n",
       "      <td>0.259488</td>\n",
       "      <td>0</td>\n",
       "      <td>0.0</td>\n",
       "      <td>0.0</td>\n",
       "    </tr>\n",
       "    <tr>\n",
       "      <th>2</th>\n",
       "      <td>-0.963351</td>\n",
       "      <td>-0.670394</td>\n",
       "      <td>0.066333</td>\n",
       "      <td>0</td>\n",
       "      <td>0.0</td>\n",
       "      <td>0.0</td>\n",
       "    </tr>\n",
       "    <tr>\n",
       "      <th>3</th>\n",
       "      <td>-0.963619</td>\n",
       "      <td>-0.670657</td>\n",
       "      <td>-0.186137</td>\n",
       "      <td>0</td>\n",
       "      <td>0.0</td>\n",
       "      <td>0.0</td>\n",
       "    </tr>\n",
       "    <tr>\n",
       "      <th>4</th>\n",
       "      <td>-0.965885</td>\n",
       "      <td>-0.671447</td>\n",
       "      <td>0.677776</td>\n",
       "      <td>14</td>\n",
       "      <td>0.0</td>\n",
       "      <td>14.0</td>\n",
       "    </tr>\n",
       "  </tbody>\n",
       "</table>\n",
       "</div>"
      ],
      "text/plain": [
       "       Mod1      Mod2      Mod3  c_total   Cd    Pb\n",
       "0 -0.972283 -0.670482 -0.358179        0  0.0   0.0\n",
       "1 -0.975878 -0.670482  0.259488        0  0.0   0.0\n",
       "2 -0.963351 -0.670394  0.066333        0  0.0   0.0\n",
       "3 -0.963619 -0.670657 -0.186137        0  0.0   0.0\n",
       "4 -0.965885 -0.671447  0.677776       14  0.0  14.0"
      ]
     },
     "execution_count": 34,
     "metadata": {},
     "output_type": "execute_result"
    }
   ],
   "source": [
    "# In this cell, standardize the dataset features by removing the mean and scaling to unit variance. \n",
    "# In other words, use z-score to scale the dataset features (Mod1, Mod2, Mod3) \n",
    "# Print the 5 first samples (i.e. rows) of the scaled dataset\n",
    "\n",
    "# I made my own function to calculate the z-score in a given data and column\n",
    "def zstand(data, col, x):\n",
    "    mean = data[col].mean()\n",
    "    std = np.std(data[col])\n",
    "    return (x-mean)/std\n",
    "    \n",
    "# a function to change the values to standardized form\n",
    "def cols_to_z(data,cols):\n",
    "    for col in cols:\n",
    "        data[col] = data[col].apply(lambda x: zstand(data, col, x))\n",
    "\n",
    "standardized = water_data.copy()\n",
    "cols_to_z(standardized, ['Mod1', 'Mod2', 'Mod3'])\n",
    "standardized.head(5)"
   ]
  },
  {
   "cell_type": "markdown",
   "metadata": {},
   "source": [
    "## C-index code "
   ]
  },
  {
   "cell_type": "code",
   "execution_count": 24,
   "metadata": {
    "tags": []
   },
   "outputs": [],
   "source": [
    "# In this cell, implement the C-index function. You may use the implementation from the first exercise.\n",
    "def cindex(true_labels, pred_labels):\n",
    "    n = 0\n",
    "    h_num = 0 \n",
    "    for i in range(len(true_labels)):\n",
    "        for j in range(i+1, len(true_labels)):\n",
    "            if (true_labels[i] != true_labels[j]): \n",
    "                n += 1\n",
    "                if (pred_labels[i] < pred_labels[j] and true_labels[i] < true_labels[j]) or (pred_labels[i] > pred_labels[j] and true_labels[i] > true_labels[j]): \n",
    "                    h_num += 1\n",
    "                elif (pred_labels[i] == pred_labels[j]):\n",
    "                    h_num += 0.5\n",
    "    if n == 0:\n",
    "        return 0\n",
    "    cindx = h_num/n\n",
    "    \"\"\"Returns C-index between true labels and predicted labels\"\"\"         \n",
    "    return cindx"
   ]
  },
  {
   "cell_type": "code",
   "execution_count": 5,
   "metadata": {},
   "outputs": [
    {
     "name": "stdout",
     "output_type": "stream",
     "text": [
      "0.75\n"
     ]
    }
   ],
   "source": [
    "# Test the cindex function with following values\n",
    "true_labels = np.array([-1, 1, 1, -1, 1])\n",
    "predictions = np.array([0.60, 0.80, 0.75, 0.75, 0.70])\n",
    "cindx = cindex(true_labels, predictions)\n",
    "print(cindx) #For this example, a correct C-index implementation will result in 0.75"
   ]
  },
  {
   "cell_type": "markdown",
   "metadata": {},
   "source": [
    "## Leave-One-Out cross-validation\n",
    "In the following cell, write and execute your code for Leave-One-Out cross-validation using K-Nearest Neighbor Regression with k values of 1, 3, 5, and 7.<br>\n",
    "Print the corresponding Leave-One-Out C-index for c_total, Cd and Pb for each k value."
   ]
  },
  {
   "cell_type": "code",
   "execution_count": 145,
   "metadata": {},
   "outputs": [
    {
     "name": "stdout",
     "output_type": "stream",
     "text": [
      "Group: Cd\n",
      "  variable  k   C-index\n",
      "4       Cd  1  0.999706\n",
      "5       Cd  3  0.998764\n",
      "6       Cd  5  0.916564\n",
      "7       Cd  7  0.893906\n",
      "\n",
      "\n",
      "Group: Pb\n",
      "   variable  k   C-index\n",
      "8        Pb  1  0.999588\n",
      "9        Pb  3  0.998617\n",
      "10       Pb  5  0.910443\n",
      "11       Pb  7  0.885667\n",
      "\n",
      "\n",
      "Group: c_total\n",
      "  variable  k  C-index\n",
      "0  c_total  1      1.0\n",
      "1  c_total  3      1.0\n",
      "2  c_total  5      1.0\n",
      "3  c_total  7      1.0\n",
      "\n",
      "\n"
     ]
    }
   ],
   "source": [
    "k_values = [1,3,5,7]\n",
    "col_names = ['c_total', 'Cd', 'Pb']\n",
    "\n",
    "n = len(standardized)\n",
    "loo_df = pd.DataFrame(columns=['variable', 'k', 'C-index'])\n",
    "for col in col_names:\n",
    "    \n",
    "    X = standardized.drop(col_names, axis=1)\n",
    "    y = standardized[col]\n",
    "\n",
    "    for k in k_values:\n",
    "        \n",
    "        knn = KNeighborsRegressor(n_neighbors=k, metric= 'euclidean')\n",
    "        c_index_values = []\n",
    "        loo = LeaveOneOut()\n",
    "     \n",
    "        y_value_arr = []\n",
    "        y_pred_arr = []\n",
    "\n",
    "        for train_ind, test_ind in loo.split(X):\n",
    "            X_train = X.iloc[train_ind]\n",
    "            X_test = X.iloc[test_ind]\n",
    "            y_train, y_test = y.iloc[train_ind], y.iloc[test_ind]\n",
    "\n",
    "            knn.fit(X_train, y_train)\n",
    "            y_pred = knn.predict(X_test)\n",
    "            y_pred_arr.extend(y_pred)\n",
    "            y_value_arr.extend(y_test.values)\n",
    "            #print(f\"true: {y_test}, pred: {y_pred}\")\n",
    "        c_index_values.append(cindex(y_value_arr, y_pred_arr))\n",
    "       \n",
    "        temp_df = pd.DataFrame({'variable': [col], 'k': [k], 'C-index': [np.mean(c_index_values)]})\n",
    "\n",
    "        loo_df = pd.concat([loo_df, temp_df], ignore_index=True)\n",
    "grouped_loo_df = loo_df.groupby('variable')\n",
    "\n",
    "for name, group in grouped_loo_df:\n",
    "    print(f\"Group: {name}\")\n",
    "    print(group)\n",
    "    print(\"\\n\")"
   ]
  },
  {
   "cell_type": "markdown",
   "metadata": {},
   "source": [
    " "
   ]
  },
  {
   "cell_type": "markdown",
   "metadata": {},
   "source": [
    "## Leave-Replicas-Out cross-validation"
   ]
  },
  {
   "cell_type": "markdown",
   "metadata": {
    "tags": []
   },
   "source": [
    "In the following cell, write and execute your code for Leave-Replicas-Out cross-validation using K-Nearest Neighbor Regression with k values of 1, 3, 5, and 7.<br>\n",
    "Print the corresponding Leave-Replicas-Out C-index for c_total, Cd and Pb for each k value."
   ]
  },
  {
   "cell_type": "code",
   "execution_count": 143,
   "metadata": {},
   "outputs": [
    {
     "name": "stdout",
     "output_type": "stream",
     "text": [
      "Group: Cd\n",
      "  variable  k   C-index\n",
      "4       Cd  1  0.752545\n",
      "5       Cd  3  0.753546\n",
      "6       Cd  5  0.733330\n",
      "7       Cd  7  0.742452\n",
      "\n",
      "\n",
      "Group: Pb\n",
      "   variable  k   C-index\n",
      "8        Pb  1  0.736008\n",
      "9        Pb  3  0.762859\n",
      "10       Pb  5  0.748131\n",
      "11       Pb  7  0.749941\n",
      "\n",
      "\n",
      "Group: c_total\n",
      "  variable  k   C-index\n",
      "0  c_total  1  0.823848\n",
      "1  c_total  3  0.823115\n",
      "2  c_total  5  0.816074\n",
      "3  c_total  7  0.819694\n",
      "\n",
      "\n"
     ]
    }
   ],
   "source": [
    "col_names = ['c_total', 'Cd', 'Pb']\n",
    "target = standardized[col_names]\n",
    "\n",
    "\n",
    "group = target.groupby(list(target.columns)).apply(lambda x: x.index.tolist()).tolist()\n",
    "groups = []\n",
    "for i in range(len(group)):\n",
    "    for j in range(len(group[i])):\n",
    "        groups.append(i)\n",
    "logo_groups = np.array(groups)\n",
    "\n",
    "logo_df = pd.DataFrame(columns=['variable', 'k', 'C-index'])\n",
    "k_values = [1,3,5,7]\n",
    "n = len(standardized)\n",
    "features = ['Mod1', 'Mod2', 'Mod3']\n",
    "Scores_logo = {\n",
    "    'c_total': [],\n",
    "    'Cd': [],\n",
    "    'Pb': []\n",
    "}\n",
    "for col in col_names:\n",
    "    X = standardized[features].values\n",
    "    y = standardized[col].values\n",
    "    col_values = []\n",
    "    for k in k_values:\n",
    "        \n",
    "        knn = KNeighborsRegressor(n_neighbors=k, metric= 'euclidean')\n",
    "        logo = LeaveOneGroupOut()\n",
    "        \n",
    "        c_index_values = []\n",
    "        y_value_arr = []\n",
    "        y_pred_arr = []\n",
    "\n",
    "        for train_ind, test_ind in logo.split(X, y, groups=logo_groups):\n",
    "       \n",
    "            X_train, X_test = X[train_ind], X[test_ind] \n",
    "            y_train, y_test = y[train_ind], y[test_ind]\n",
    "\n",
    "            \n",
    "            knn.fit(X_train, y_train)\n",
    "            y_pred = knn.predict(X_test)\n",
    "            y_pred_arr.extend(y_pred)\n",
    "            y_value_arr.extend(y_test)\n",
    "\n",
    "        c_index_values.append(cindex(y_value_arr, y_pred_arr))\n",
    "        \n",
    "        temp_df = pd.DataFrame({'variable': [col], 'k': [k], 'C-index': [np.mean(c_index_values)]})\n",
    "\n",
    "        logo_df = pd.concat([logo_df, temp_df], ignore_index=True)\n",
    "grouped_logo_df = logo_df.groupby('variable')\n",
    "\n",
    "for name, group in grouped_logo_df:\n",
    "    print(f\"Group: {name}\")\n",
    "    print(group)\n",
    "    print(\"\\n\")"
   ]
  },
  {
   "cell_type": "markdown",
   "metadata": {
    "tags": []
   },
   "source": [
    "## Plot Leave-One-Out and Leave-Replicas-Out Results"
   ]
  },
  {
   "cell_type": "markdown",
   "metadata": {
    "tags": []
   },
   "source": [
    "Note: You may plot the results as they were presented in the video lecture (refer to MOOC2-Module 2 .pptx slides)."
   ]
  },
  {
   "cell_type": "code",
   "execution_count": 147,
   "metadata": {},
   "outputs": [
    {
     "data": {
      "image/png": "[encoded data removed]",
      "text/plain": [
       "<Figure size 640x480 with 1 Axes>"
      ]
     },
     "metadata": {},
     "output_type": "display_data"
    }
   ],
   "source": [
    "for name, group in grouped_loo_df:\n",
    "    plt.plot(group['k'], group['C-index'], marker='o', linestyle='-', label=name)\n",
    "\n",
    "plt.title('C-Index vs. k for Leave-one-out')\n",
    "plt.xlabel('k values')\n",
    "plt.ylabel('C-Index')\n",
    "plt.legend(title='Column')\n",
    "plt.show()"
   ]
  },
  {
   "cell_type": "code",
   "execution_count": 148,
   "metadata": {},
   "outputs": [
    {
     "data": {
      "image/png": "[encoded data removed]",
      "text/plain": [
       "<Figure size 640x480 with 1 Axes>"
      ]
     },
     "metadata": {},
     "output_type": "display_data"
    }
   ],
   "source": [
    "for name, group in grouped_logo_df:\n",
    "    plt.plot(group['k'], group['C-index'], marker='o', linestyle='-', label=name)\n",
    "\n",
    "plt.title('C-Index vs. k for Leave-replicas-out')\n",
    "plt.xlabel('k values')\n",
    "plt.ylabel('C-Index')\n",
    "plt.legend(title='Column')\n",
    "plt.show()"
   ]
  },
  {
   "cell_type": "markdown",
   "metadata": {},
   "source": [
    "## Interpretation of results\n",
    "#### Answer the following questions based on the results obtained\n",
    "- Which cross-validation method had more optimistic results? \n",
    "- Explain the reason for the optimistic results produced by the cross-validation method.\n",
    "- Which cross-validation method generalized better on unseen data? Why?"
   ]
  },
  {
   "cell_type": "markdown",
   "metadata": {},
   "source": [
    "#In this cell write your answers to the questions.\n",
    "1. Leave-one-out had more optimistic results.\n",
    "2. Leave-one-out uses one data point as an test sample each iteration. We know that there are at least 3 identical data points as the one we are using as test sample. In leave-replicas-out method there migth be no identical samples in the train set as in the test set.\n",
    "3. Leave-one-out. The higher c-index values implicate it to be th ebetter of these two methods."
   ]
  }
 ],
 "metadata": {
  "kernelspec": {
   "display_name": "Python 3 (ipykernel)",
   "language": "python",
   "name": "python3"
  },
  "language_info": {
   "codemirror_mode": {
    "name": "ipython",
    "version": 3
   },
   "file_extension": ".py",
   "mimetype": "text/x-python",
   "name": "python",
   "nbconvert_exporter": "python",
   "pygments_lexer": "ipython3",
   "version": "3.10.9"
  },
  "toc": {
   "base_numbering": 1,
   "nav_menu": {},
   "number_sections": false,
   "sideBar": true,
   "skip_h1_title": false,
   "title_cell": "Table of Contents",
   "title_sidebar": "Contents",
   "toc_cell": false,
   "toc_position": {},
   "toc_section_display": true,
   "toc_window_display": true
  },
  "varInspector": {
   "cols": {
    "lenName": 16,
    "lenType": 16,
    "lenVar": 40
   },
   "kernels_config": {
    "python": {
     "delete_cmd_postfix": "",
     "delete_cmd_prefix": "del ",
     "library": "var_list.py",
     "varRefreshCmd": "print(var_dic_list())"
    },
    "r": {
     "delete_cmd_postfix": ") ",
     "delete_cmd_prefix": "rm(",
     "library": "var_list.r",
     "varRefreshCmd": "cat(var_dic_list()) "
    }
   },
   "types_to_exclude": [
    "module",
    "function",
    "builtin_function_or_method",
    "instance",
    "_Feature"
   ],
   "window_display": false
  }
 },
 "nbformat": 4,
 "nbformat_minor": 4
}
