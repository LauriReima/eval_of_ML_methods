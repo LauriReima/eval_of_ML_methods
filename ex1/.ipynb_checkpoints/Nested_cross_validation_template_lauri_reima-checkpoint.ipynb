{
 "cells": [
  {
   "cell_type": "markdown",
   "metadata": {},
   "source": [
    "Lauri Reima\n",
    "\n",
    "2109673\n",
    "\n",
    "loreim@utu.fi"
   ]
  },
  {
   "cell_type": "markdown",
   "metadata": {},
   "source": [
    "# 1. Nested cross-validation exercise\n",
    "## Nested cross-validation for feature selection with nearest neighbors <br>\n",
    "- Use Python 3 to program both a hyper-parameter selection method based on 5-fold cross-validation and a nested 5-fold cross-validation for estimating the prediction performance of models inferred with this automatic selection approach. Use base learning algorithm provided in the exercise, namely the \"use_ith_feature\" method, so that the value of the hyper-parameter i is automatically selected from the range from 1 to 100 of alternative values. The provided base learning algorithm \"use_ith_feature\" is 1-nearest neighbor that uses only the ith feature of the data given to it. The 5-fold CV based hyper-parameter selection procedure is supposed to select the best feature, e.g. the value of i, based on C-index evaluated with predictions obtained with 5-fold cross-validation. A ready-made implementation of C-index is also provided in the exercise. In nested 5-fold cross-validation, a C_index value is further evaluated on the predictions obtained from an outer 5-fold cross-validation. During each round of this outer 5-fold CV, the whole feature selection process based on inner 5-fold CV is separately done and the selected feature is used for prediction for the test data points held out during that round of the outer CV. Accordingly, the actual learning algorithm, whose prediction performance will be evaluated with nested CV, is the one that automatically selects the single best feature with 5-fold cross-validation based model selection (see the lectures and the pseudo codes presented on them for more info on this interpretation).\n",
    "- Compare the C-index produced by nested 5-fold CV with the result of ordinary 5-fold CV with the best value of i e.g. the feature providing the highest 5-fold CV C-index, and show the C-index difference between the two methods.\n",
    "- Use the provided implementation of the \"use_ith_feature\" learning algorithm and C-index functions in your exercise.\n",
    "\n",
    "As a summary, for completing this exercise implement the following steps: \n",
    "_______________________________________________________________\n",
    "#### 1. Use 5-fold cross-validation for determining the optimal i-parameter for the data (X_train.csv, y_prediction.csv) from the set of possible values of i e.g. {1,...,100}. When you have found the optimal i, save the corresponding C-index (call it 5_fold_c_index) for this parameter.\n",
    "#### 2. Similarly, use nested cross-validation ( 5-fold CV both in outer and inner folds) for estimating the C-index (call it n_5_fold_c_index) of the method that selects the best feature with 5-fold approach. \n",
    "#### 3. Return both this notebook and as a PDF-file made from it in the exercise submit page. \n",
    "_______________________________________________________________\n",
    "\n",
    "Remember to use the provided learning algorithm use_ith_feature and C-index functions in your implementation! "
   ]
  },
  {
   "cell_type": "markdown",
   "metadata": {},
   "source": [
    "## Import libraries"
   ]
  },
  {
   "cell_type": "code",
   "execution_count": 1,
   "metadata": {},
   "outputs": [],
   "source": [
    "#In this cell import all libraries you need. For example: \n",
    "import numpy as np\n",
    "import pandas as pd"
   ]
  },
  {
   "cell_type": "markdown",
   "metadata": {},
   "source": [
    "## Provided functions "
   ]
  },
  {
   "cell_type": "code",
   "execution_count": 2,
   "metadata": {},
   "outputs": [],
   "source": [
    "\"\"\"\n",
    "C-index function: \n",
    "- INPUTS: \n",
    "'y' an array of the true output values\n",
    "'yp' an array of predicted output values\n",
    "- OUTPUT: \n",
    "The c-index value\n",
    "\"\"\"\n",
    "def cindex(y, yp):\n",
    "    n = 0\n",
    "    h_num = 0 \n",
    "    for i in range(0, len(y)):\n",
    "        t = y[i]\n",
    "        p = yp[i]\n",
    "        for j in range(i+1, len(y)):\n",
    "            nt = y[j]\n",
    "            np = yp[j]\n",
    "            if (t != nt): \n",
    "                n = n + 1\n",
    "                if (p < np and t < nt) or (p > np and t > nt): \n",
    "                    h_num += 1\n",
    "                elif (p == np):\n",
    "                    h_num += 0.5\n",
    "    return h_num/n\n",
    "\n",
    "\"\"\"\n",
    "Self-contained 1-nearest neighbor using only a single feature\n",
    "- INPUTS: \n",
    "'X_train' a numpy matrix of the X-features of the train data points\n",
    "'y_train' a numpy matrix of the output values of the train data points\n",
    "'X_test' a numpy matrix of the X-features of the test data points\n",
    "'i' the index of the feature to be used with 1-nearest neighbor\n",
    "- OUTPUT: \n",
    "'y_predictions' a list of the output value predictions\n",
    "\"\"\"\n",
    "def use_ith_feature(X_train, y_train, X_test, i):\n",
    "    y_predictions = []\n",
    "    for test_ind in range(0, X_test.shape[0]):\n",
    "        diff = X_test[test_ind, i] - X_train[:, i]\n",
    "        distances = np.sqrt(diff * diff)\n",
    "        sort_inds = np.array(np.argsort(distances), dtype=int)\n",
    "        y_predictions.append(y_train[sort_inds[0]])\n",
    "    return y_predictions\n"
   ]
  },
  {
   "cell_type": "markdown",
   "metadata": {},
   "source": [
    "## Your implementation here"
   ]
  },
  {
   "cell_type": "code",
   "execution_count": 3,
   "metadata": {},
   "outputs": [],
   "source": [
    "# In this cell implement the required tasks\n",
    "# Read the csv files, data dose not contain headers(column names).\n",
    "# Dimention of X_train.csv is (30, 100) and for y_prediction.csv is (30, 1)\n",
    "xtrain = pd.read_csv('X_train.csv', header=None)\n",
    "ypred = pd.read_csv('y_prediction.csv', header=None)\n",
    "\n",
    "## 1\n",
    "def five_fold_c_index(x,y,fold): ## one can't name functions or variables using numbers as the first character\n",
    "    n = len(x)\n",
    "    num_folds = fold\n",
    "    fold_size = n // num_folds\n",
    "    indeces = np.arange(n)\n",
    "    \n",
    "    five_fold_c_index = {}\n",
    "    \n",
    "    best_index = None\n",
    "    value_in_best_c_index = -1\n",
    "    \n",
    "    # loop through each i from 1...100\n",
    "    for i in range(100):\n",
    "        # save each i c-index\n",
    "        i_fold_c_index_values = []\n",
    "    \n",
    "        # fold it five times\n",
    "        for j in range(num_folds):\n",
    "            # start and end indeces\n",
    "            start = j * fold_size\n",
    "            end = (j + 1) * fold_size\n",
    "        \n",
    "            test_ind = indeces[start:end]\n",
    "            train_ind = np.concatenate([indeces[:start], indeces[end:]])\n",
    "    \n",
    "            # train and test data that changes with every fold\n",
    "            X_train, X_test = x.iloc[train_ind], x.iloc[test_ind]\n",
    "            y_train, y_test = y.iloc[train_ind], y.iloc[test_ind]\n",
    "    \n",
    "            # use the functions given to calculate model\n",
    "            y_prediction = use_ith_feature(X_train.values, y_train.values, X_test.values, i)\n",
    "            c_index_val = cindex(np.array(y_test), y_prediction)\n",
    "            i_fold_c_index_values.append(c_index_val)\n",
    "    \n",
    "        # save the results into a dictionary\n",
    "        five_fold_c_index[i] = np.mean(i_fold_c_index_values)\n",
    "        if np.mean(i_fold_c_index_values) > value_in_best_c_index:\n",
    "            value_in_best_c_index = np.mean(i_fold_c_index_values)\n",
    "            best_index = i\n",
    "    \n",
    "    print(f\"Best Hyperparameter for {fold}-fold: {best_index} \\nCorresponding score: {value_in_best_c_index}\")\n",
    "    return value_in_best_c_index\n",
    "\n",
    "    # just to check the answer a dict was made\n",
    "    # five_fold_c_index"
   ]
  },
  {
   "cell_type": "code",
   "execution_count": 4,
   "metadata": {},
   "outputs": [],
   "source": [
    "def n_5_fold_c_index(x,y,fold):\n",
    "    n = len(x)\n",
    "    num_folds_outer = fold\n",
    "    fold_size_outer = n // num_folds_outer\n",
    "    indeces_outer = np.arange(n)\n",
    "    \n",
    "    nested_five_fold_c_index_outer = {}\n",
    "    \n",
    "    for i in range(100):  \n",
    "        # save c-index of each i\n",
    "        i_fold_c_index_outer_values = []\n",
    "\n",
    "        # do the outer folding\n",
    "        for j_outer in range(num_folds_outer):  \n",
    "            start_outer = j_outer * fold_size_outer\n",
    "            end_outer = (j_outer + 1) * fold_size_outer\n",
    "            \n",
    "            test_ind_outer = indeces_outer[start_outer:end_outer]\n",
    "            train_ind_outer = np.concatenate([indeces_outer[:start_outer], indeces_outer[end_outer:]])\n",
    "\n",
    "            # outer train and test data\n",
    "            X_train_outer, X_test_outer = x.iloc[train_ind_outer], x.iloc[test_ind_outer]\n",
    "            y_train_outer, y_test_outer = y.iloc[train_ind_outer], y.iloc[test_ind_outer]\n",
    "    \n",
    "            # inner loop specs\n",
    "            n_inner = len(X_train_outer)\n",
    "            num_folds_inner = fold\n",
    "            fold_size_inner = n_inner // num_folds_inner\n",
    "            indeces_inner = np.arange(n_inner)\n",
    "\n",
    "            # save inner c-index\n",
    "            i_fold_c_index_inner_values = []\n",
    "    \n",
    "            for j_inner in range(num_folds_inner):  \n",
    "                start_inner = j_inner * fold_size_inner\n",
    "                end_inner = (j_inner + 1) * fold_size_inner\n",
    "    \n",
    "                test_ind_inner = indeces_inner[start_inner:end_inner]\n",
    "                train_ind_inner = np.concatenate([indeces_inner[:start_inner], indeces_inner[end_inner:]])\n",
    "    \n",
    "                X_train_inner, X_test_inner = X_train_outer.iloc[train_ind_inner], X_train_outer.iloc[test_ind_inner]\n",
    "                y_train_inner, y_test_inner = y_train_outer.iloc[train_ind_inner], y_train_outer.iloc[test_ind_inner]\n",
    "    \n",
    "                    \n",
    "                y_prediction_inner = use_ith_feature(X_train_inner.values, y_train_inner.values, X_test_inner.values, i)\n",
    "                c_index_val_inner = cindex(np.array(y_test_inner), y_prediction_inner)\n",
    "\n",
    "                # save the inner c-index \n",
    "                i_fold_c_index_inner_values.append(c_index_val_inner)\n",
    "                \n",
    "            # save all inner c-index to outer loop\n",
    "            i_fold_c_index_outer_values.append(np.mean(i_fold_c_index_inner_values))\n",
    "\n",
    "        # save the scores by index\n",
    "        nested_five_fold_c_index_outer[i] = np.mean(i_fold_c_index_outer_values)\n",
    "    \n",
    "    \n",
    "    best_index_outer = max(nested_five_fold_c_index_outer, key=nested_five_fold_c_index_outer.get)\n",
    "    best_value_outer = nested_five_fold_c_index_outer[best_index_outer]\n",
    "    \n",
    "    print(f\"Best Hyperparameter for nested-{fold}-fold (Outer): {best_index_outer} \\nCorresponding Performance (Outer): {best_value_outer}\")\n",
    "    return best_value_outer\n",
    "    \n"
   ]
  },
  {
   "cell_type": "code",
   "execution_count": 5,
   "metadata": {},
   "outputs": [
    {
     "name": "stdout",
     "output_type": "stream",
     "text": [
      "Best Hyperparameter for 5-fold: 76 \n",
      "Corresponding score: 0.6533333333333334\n"
     ]
    },
    {
     "data": {
      "text/plain": [
       "0.6533333333333334"
      ]
     },
     "execution_count": 5,
     "metadata": {},
     "output_type": "execute_result"
    }
   ],
   "source": [
    "five_fold_c_index(xtrain,ypred,5)"
   ]
  },
  {
   "cell_type": "code",
   "execution_count": 6,
   "metadata": {},
   "outputs": [
    {
     "name": "stdout",
     "output_type": "stream",
     "text": [
      "Best Hyperparameter for nested-5-fold (Outer): 47 \n",
      "Corresponding Performance (Outer): 0.7333333333333334\n"
     ]
    },
    {
     "data": {
      "text/plain": [
       "0.7333333333333334"
      ]
     },
     "execution_count": 6,
     "metadata": {},
     "output_type": "execute_result"
    }
   ],
   "source": [
    "n_5_fold_c_index(xtrain,ypred,5)"
   ]
  },
  {
   "cell_type": "code",
   "execution_count": 7,
   "metadata": {},
   "outputs": [
    {
     "name": "stdout",
     "output_type": "stream",
     "text": [
      "Best Hyperparameter for nested-5-fold (Outer): 47 \n",
      "Corresponding Performance (Outer): 0.7333333333333334\n",
      "Best Hyperparameter for 5-fold: 76 \n",
      "Corresponding score: 0.6533333333333334\n",
      "The difference in the c-index scores is: 0.07999999999999996\n"
     ]
    }
   ],
   "source": [
    "print(f\"The difference in the c-index scores is: {n_5_fold_c_index(xtrain,ypred,5) - five_fold_c_index(xtrain,ypred,5)}\")"
   ]
  },
  {
   "cell_type": "code",
   "execution_count": null,
   "metadata": {},
   "outputs": [],
   "source": []
  }
 ],
 "metadata": {
  "kernelspec": {
   "display_name": "Python 3 (ipykernel)",
   "language": "python",
   "name": "python3"
  },
  "language_info": {
   "codemirror_mode": {
    "name": "ipython",
    "version": 3
   },
   "file_extension": ".py",
   "mimetype": "text/x-python",
   "name": "python",
   "nbconvert_exporter": "python",
   "pygments_lexer": "ipython3",
   "version": "3.10.9"
  },
  "toc": {
   "base_numbering": 1,
   "nav_menu": {},
   "number_sections": false,
   "sideBar": true,
   "skip_h1_title": false,
   "title_cell": "Table of Contents",
   "title_sidebar": "Contents",
   "toc_cell": false,
   "toc_position": {},
   "toc_section_display": true,
   "toc_window_display": true
  },
  "varInspector": {
   "cols": {
    "lenName": 16,
    "lenType": 16,
    "lenVar": 40
   },
   "kernels_config": {
    "python": {
     "delete_cmd_postfix": "",
     "delete_cmd_prefix": "del ",
     "library": "var_list.py",
     "varRefreshCmd": "print(var_dic_list())"
    },
    "r": {
     "delete_cmd_postfix": ") ",
     "delete_cmd_prefix": "rm(",
     "library": "var_list.r",
     "varRefreshCmd": "cat(var_dic_list()) "
    }
   },
   "types_to_exclude": [
    "module",
    "function",
    "builtin_function_or_method",
    "instance",
    "_Feature"
   ],
   "window_display": false
  }
 },
 "nbformat": 4,
 "nbformat_minor": 4
}
